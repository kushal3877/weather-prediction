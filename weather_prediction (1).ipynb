{
 "cells": [
  {
   "cell_type": "code",
   "execution_count": 6,
   "id": "bb3504ea",
   "metadata": {},
   "outputs": [],
   "source": [
    "import tensorflow as tf\n",
    "from keras.preprocessing.image import ImageDataGenerator"
   ]
  },
  {
   "cell_type": "code",
   "execution_count": 21,
   "id": "d77c5f5c",
   "metadata": {},
   "outputs": [
    {
     "name": "stdout",
     "output_type": "stream",
     "text": [
      "Found 4646 images belonging to 10 classes.\n"
     ]
    }
   ],
   "source": [
    "train_datagen = ImageDataGenerator(rescale = 1./255,    # use for feature scaling\n",
    "                                   shear_range = 0.2,\n",
    "                                   zoom_range = 0.2,\n",
    "                                   horizontal_flip = True)    # image transformation to avoid overfeeding\n",
    "training_set = train_datagen.flow_from_directory(r'C:\\Users\\Kushal\\Desktop\\Weather_Prediiction\\train',   # directory path\n",
    "                                                 target_size = (64, 64),\n",
    "                                                 batch_size = 32,\n",
    "                                                 class_mode = 'categorical')"
   ]
  },
  {
   "cell_type": "code",
   "execution_count": 22,
   "id": "dc2b5b50",
   "metadata": {},
   "outputs": [
    {
     "name": "stdout",
     "output_type": "stream",
     "text": [
      "Found 1098 images belonging to 10 classes.\n"
     ]
    }
   ],
   "source": [
    "test_datagen = ImageDataGenerator(rescale = 1./255)   # only rescaling for test set like previous where we apply only transform\n",
    "test_set = test_datagen.flow_from_directory(r'C:\\Users\\Kushal\\Desktop\\Weather_Prediiction\\test',   # method to test set and fit_transform to training set\n",
    "                                            target_size = (64, 64),\n",
    "                                            batch_size = 32,\n",
    "                                            class_mode = 'categorical')"
   ]
  },
  {
   "cell_type": "code",
   "execution_count": 23,
   "id": "8fb39690",
   "metadata": {},
   "outputs": [],
   "source": [
    "cnn = tf.keras.models.Sequential()"
   ]
  },
  {
   "cell_type": "code",
   "execution_count": 24,
   "id": "85382fc0",
   "metadata": {},
   "outputs": [],
   "source": [
    "cnn.add(tf.keras.layers.Conv2D(filters=32, kernel_size=3, activation='relu', input_shape=[64, 64, 3]))\n",
    "#filters=32 means 32 feature detector kernel_size =3 means 3*3 array\n",
    "#input_size should be same as that of above mention target size"
   ]
  },
  {
   "cell_type": "code",
   "execution_count": 25,
   "id": "9f5cd28e",
   "metadata": {},
   "outputs": [],
   "source": [
    "cnn.add(tf.keras.layers.MaxPool2D(pool_size=2, strides=2))\n"
   ]
  },
  {
   "cell_type": "code",
   "execution_count": 26,
   "id": "2ed98816",
   "metadata": {},
   "outputs": [],
   "source": [
    "cnn.add(tf.keras.layers.Conv2D(filters=32, kernel_size=3, activation='relu'))\n",
    "cnn.add(tf.keras.layers.MaxPool2D(pool_size=2, strides=2))\n",
    "#keep same second convolution layer except the input_size....we dont need another input to put in the other"
   ]
  },
  {
   "cell_type": "code",
   "execution_count": 27,
   "id": "714a46be",
   "metadata": {},
   "outputs": [],
   "source": [
    "cnn.add(tf.keras.layers.Flatten())"
   ]
  },
  {
   "cell_type": "code",
   "execution_count": 28,
   "id": "aa95387c",
   "metadata": {},
   "outputs": [],
   "source": [
    "cnn.add(tf.keras.layers.Dense(units=128, activation='relu'))"
   ]
  },
  {
   "cell_type": "code",
   "execution_count": 29,
   "id": "5b9b4408",
   "metadata": {},
   "outputs": [],
   "source": [
    "cnn.add(tf.keras.layers.Dense(units=10, activation='softmax'))"
   ]
  },
  {
   "cell_type": "code",
   "execution_count": 30,
   "id": "e20c5414",
   "metadata": {},
   "outputs": [],
   "source": [
    "cnn.compile(optimizer = 'adam', loss = 'binary_crossentropy', metrics = ['accuracy'])"
   ]
  },
  {
   "cell_type": "code",
   "execution_count": 31,
   "id": "895b8ade",
   "metadata": {},
   "outputs": [
    {
     "name": "stdout",
     "output_type": "stream",
     "text": [
      "Epoch 1/20\n",
      "146/146 [==============================] - 308s 2s/step - loss: 0.2381 - accuracy: 0.4800 - val_loss: 0.1781 - val_accuracy: 0.6275\n",
      "Epoch 2/20\n",
      "146/146 [==============================] - 177s 1s/step - loss: 0.1671 - accuracy: 0.6548 - val_loss: 0.1555 - val_accuracy: 0.6576\n",
      "Epoch 3/20\n",
      "146/146 [==============================] - 154s 1s/step - loss: 0.1556 - accuracy: 0.6711 - val_loss: 0.1396 - val_accuracy: 0.7259\n",
      "Epoch 4/20\n",
      "146/146 [==============================] - 174s 1s/step - loss: 0.1459 - accuracy: 0.6922 - val_loss: 0.1383 - val_accuracy: 0.7231\n",
      "Epoch 5/20\n",
      "146/146 [==============================] - 154s 1s/step - loss: 0.1400 - accuracy: 0.7139 - val_loss: 0.1316 - val_accuracy: 0.7131\n",
      "Epoch 6/20\n",
      "146/146 [==============================] - 133s 913ms/step - loss: 0.1367 - accuracy: 0.7118 - val_loss: 0.1369 - val_accuracy: 0.7158\n",
      "Epoch 7/20\n",
      "146/146 [==============================] - 113s 773ms/step - loss: 0.1346 - accuracy: 0.7258 - val_loss: 0.1299 - val_accuracy: 0.7286\n",
      "Epoch 8/20\n",
      "146/146 [==============================] - 121s 828ms/step - loss: 0.1298 - accuracy: 0.7331 - val_loss: 0.1341 - val_accuracy: 0.7195\n",
      "Epoch 9/20\n",
      "146/146 [==============================] - 97s 666ms/step - loss: 0.1263 - accuracy: 0.7378 - val_loss: 0.1211 - val_accuracy: 0.7441\n",
      "Epoch 10/20\n",
      "146/146 [==============================] - 108s 745ms/step - loss: 0.1222 - accuracy: 0.7525 - val_loss: 0.1228 - val_accuracy: 0.7505\n",
      "Epoch 11/20\n",
      "146/146 [==============================] - 86s 587ms/step - loss: 0.1239 - accuracy: 0.7523 - val_loss: 0.1311 - val_accuracy: 0.7186\n",
      "Epoch 12/20\n",
      "146/146 [==============================] - 71s 486ms/step - loss: 0.1166 - accuracy: 0.7617 - val_loss: 0.1127 - val_accuracy: 0.7568\n",
      "Epoch 13/20\n",
      "146/146 [==============================] - 63s 429ms/step - loss: 0.1140 - accuracy: 0.7746 - val_loss: 0.1047 - val_accuracy: 0.7914\n",
      "Epoch 14/20\n",
      "146/146 [==============================] - 62s 426ms/step - loss: 0.1101 - accuracy: 0.7813 - val_loss: 0.1191 - val_accuracy: 0.7687\n",
      "Epoch 15/20\n",
      "146/146 [==============================] - 63s 429ms/step - loss: 0.1085 - accuracy: 0.7856 - val_loss: 0.0988 - val_accuracy: 0.8024\n",
      "Epoch 16/20\n",
      "146/146 [==============================] - 62s 426ms/step - loss: 0.1083 - accuracy: 0.7867 - val_loss: 0.1002 - val_accuracy: 0.8005\n",
      "Epoch 17/20\n",
      "146/146 [==============================] - 63s 432ms/step - loss: 0.1024 - accuracy: 0.7972 - val_loss: 0.0943 - val_accuracy: 0.8078\n",
      "Epoch 18/20\n",
      "146/146 [==============================] - 62s 428ms/step - loss: 0.0981 - accuracy: 0.8158 - val_loss: 0.0994 - val_accuracy: 0.8078\n",
      "Epoch 19/20\n",
      "146/146 [==============================] - 63s 429ms/step - loss: 0.0970 - accuracy: 0.8082 - val_loss: 0.0973 - val_accuracy: 0.8087\n",
      "Epoch 20/20\n",
      "146/146 [==============================] - 79s 541ms/step - loss: 0.0927 - accuracy: 0.8241 - val_loss: 0.0909 - val_accuracy: 0.8352\n"
     ]
    },
    {
     "data": {
      "text/plain": [
       "<keras.callbacks.History at 0x183660be250>"
      ]
     },
     "execution_count": 31,
     "metadata": {},
     "output_type": "execute_result"
    }
   ],
   "source": [
    "cnn.fit(x = training_set, validation_data = test_set, epochs = 20)"
   ]
  },
  {
   "cell_type": "code",
   "execution_count": 33,
   "id": "c4f6cf38",
   "metadata": {},
   "outputs": [],
   "source": [
    "import matplotlib.pyplot as plt\n",
    "import seaborn as sns"
   ]
  },
  {
   "cell_type": "code",
   "execution_count": 38,
   "id": "52520f66",
   "metadata": {},
   "outputs": [
    {
     "name": "stdout",
     "output_type": "stream",
     "text": [
      "35/35 [==============================] - 8s 234ms/step - loss: 0.0909 - accuracy: 0.8352\n"
     ]
    },
    {
     "data": {
      "text/plain": [
       "[0.09085913747549057, 0.8351548314094543]"
      ]
     },
     "execution_count": 38,
     "metadata": {},
     "output_type": "execute_result"
    }
   ],
   "source": [
    "cnn.evaluate(test_set)"
   ]
  },
  {
   "cell_type": "code",
   "execution_count": 41,
   "id": "9430f2a0",
   "metadata": {},
   "outputs": [],
   "source": [
    "cnn.save('Weather.h5')"
   ]
  },
  {
   "cell_type": "code",
   "execution_count": null,
   "id": "7b02c225",
   "metadata": {},
   "outputs": [],
   "source": []
  },
  {
   "cell_type": "code",
   "execution_count": null,
   "id": "2175cc6e",
   "metadata": {},
   "outputs": [],
   "source": []
  },
  {
   "cell_type": "code",
   "execution_count": null,
   "id": "2badfa7f",
   "metadata": {},
   "outputs": [],
   "source": []
  },
  {
   "cell_type": "code",
   "execution_count": null,
   "id": "867e5fa6",
   "metadata": {},
   "outputs": [],
   "source": []
  },
  {
   "cell_type": "code",
   "execution_count": null,
   "id": "f336735d",
   "metadata": {},
   "outputs": [],
   "source": []
  },
  {
   "cell_type": "code",
   "execution_count": null,
   "id": "9a695168",
   "metadata": {},
   "outputs": [],
   "source": []
  }
 ],
 "metadata": {
  "kernelspec": {
   "display_name": "Python 3 (ipykernel)",
   "language": "python",
   "name": "python3"
  },
  "language_info": {
   "codemirror_mode": {
    "name": "ipython",
    "version": 3
   },
   "file_extension": ".py",
   "mimetype": "text/x-python",
   "name": "python",
   "nbconvert_exporter": "python",
   "pygments_lexer": "ipython3",
   "version": "3.9.7"
  }
 },
 "nbformat": 4,
 "nbformat_minor": 5
}
